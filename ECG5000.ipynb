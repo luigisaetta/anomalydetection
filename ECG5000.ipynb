{
 "cells": [
  {
   "cell_type": "markdown",
   "metadata": {},
   "source": [
    "###  Anomaly Detection on ECG data\n",
    "###  author: L. Saetta\n",
    "###  last update: 03/10/2020\n",
    "#### Using **AutoEncoders**, dataset: ECG5000"
   ]
  },
  {
   "cell_type": "markdown",
   "metadata": {},
   "source": [
    "#### work inspired by F. Chollet blog post, \n",
    "https://blog.keras.io/building-autoencoders-in-keras.html\n",
    "\n",
    "#### and keras.io example\n",
    "https://keras.io/examples/timeseries/timeseries_anomaly_detection/\n",
    "\n",
    "#### Dataset from site:\n",
    "http://www.timeseriesclassification.com/Downloads/ECG5000.zip\n",
    "\n",
    "##### see also\n",
    "http://www.timeseriesclassification.com/description.php?Dataset=ECG5000\n",
    "\n",
    "#### Theory on AutoEncoders? the nice \"Goodfellow\" book\n",
    "http://www.deeplearningbook.org/contents/autoencoders.html"
   ]
  },
  {
   "cell_type": "markdown",
   "metadata": {},
   "source": [
    "We use an AutoEncoder to identify anomalies in electrocardiograms (ECG’s). \n",
    "\n",
    "The dataset “ECG5000” contains 5000 ECG, obtained from Physionet site under the name “BIDMC Congestive Heart Failure Database(chfdb), chf07”.\n",
    "\n",
    "https://physionet.org/content/chfdb/1.0.0/#files-panel\n",
    "\n",
    "Data has been pre-processed in 2 steps: each heartbeat is extracted, and then each beat is made equal length (140 points) via interpolation. \n",
    "\n",
    "The data is labeled in five classes. The first class which contains around 60% of the observations is seen as “normal” while the others are \"anomalous\""
   ]
  },
  {
   "cell_type": "code",
   "execution_count": 1,
   "metadata": {},
   "outputs": [],
   "source": [
    "# nice thing is that you don't require GPUs for training. It can be easily reproduced on a modern laptop (better Mac)\n",
    "\n",
    "# tested with TF 2.3, but should work also with TF 2.2"
   ]
  },
  {
   "cell_type": "code",
   "execution_count": 2,
   "metadata": {},
   "outputs": [
    {
     "name": "stdout",
     "output_type": "stream",
     "text": [
      "2.3.1\n"
     ]
    }
   ],
   "source": [
    "import pandas as pd\n",
    "import numpy as np\n",
    "\n",
    "# using Seaborne for hist\n",
    "import seaborn as sns\n",
    "import matplotlib.pyplot as plt\n",
    "\n",
    "import tensorflow as tf\n",
    "from tensorflow import keras\n",
    "from tensorflow.keras import Sequential\n",
    "from tensorflow.keras.layers import Input, Dense\n",
    "from tensorflow.keras.models import Model\n",
    "\n",
    "from numpy.random import seed\n",
    "\n",
    "sns.set(color_codes=True)\n",
    "%matplotlib inline\n",
    "\n",
    "# code for Tensorflow 2 !!!\n",
    "print(tf.__version__)\n",
    "assert(tf.__version__ >= '2.')"
   ]
  },
  {
   "cell_type": "code",
   "execution_count": 3,
   "metadata": {},
   "outputs": [],
   "source": [
    "# training set\n",
    "\n",
    "FILE_NAME = \"ECG5000_TEST.txt\"\n",
    "\n",
    "data = pd.read_csv(FILE_NAME, delim_whitespace = True, header=None, engine = 'python')\n",
    "\n",
    "# convert labels to integer\n",
    "data[0] = data[0].astype('int32')"
   ]
  },
  {
   "cell_type": "code",
   "execution_count": 4,
   "metadata": {},
   "outputs": [],
   "source": [
    "# I have decided to use ECG5000_TEST file for training and ECG5000_TRAIN as test set\n",
    "# TEST contains 4500 rows, TRAIN only 500, so it is better this way"
   ]
  },
  {
   "cell_type": "code",
   "execution_count": 5,
   "metadata": {},
   "outputs": [],
   "source": [
    "# give human friendly names to columns\n",
    "columns = ['label']\n",
    "\n",
    "for i in range(1, 141):\n",
    "    columns.append('P' + str(i))"
   ]
  },
  {
   "cell_type": "code",
   "execution_count": 6,
   "metadata": {},
   "outputs": [
    {
     "data": {
      "text/html": [
       "<div>\n",
       "<style scoped>\n",
       "    .dataframe tbody tr th:only-of-type {\n",
       "        vertical-align: middle;\n",
       "    }\n",
       "\n",
       "    .dataframe tbody tr th {\n",
       "        vertical-align: top;\n",
       "    }\n",
       "\n",
       "    .dataframe thead th {\n",
       "        text-align: right;\n",
       "    }\n",
       "</style>\n",
       "<table border=\"1\" class=\"dataframe\">\n",
       "  <thead>\n",
       "    <tr style=\"text-align: right;\">\n",
       "      <th></th>\n",
       "      <th>label</th>\n",
       "      <th>P1</th>\n",
       "      <th>P2</th>\n",
       "      <th>P3</th>\n",
       "      <th>P4</th>\n",
       "      <th>P5</th>\n",
       "      <th>P6</th>\n",
       "      <th>P7</th>\n",
       "      <th>P8</th>\n",
       "      <th>P9</th>\n",
       "      <th>...</th>\n",
       "      <th>P131</th>\n",
       "      <th>P132</th>\n",
       "      <th>P133</th>\n",
       "      <th>P134</th>\n",
       "      <th>P135</th>\n",
       "      <th>P136</th>\n",
       "      <th>P137</th>\n",
       "      <th>P138</th>\n",
       "      <th>P139</th>\n",
       "      <th>P140</th>\n",
       "    </tr>\n",
       "  </thead>\n",
       "  <tbody>\n",
       "    <tr>\n",
       "      <th>0</th>\n",
       "      <td>1</td>\n",
       "      <td>3.690844</td>\n",
       "      <td>0.711414</td>\n",
       "      <td>-2.114092</td>\n",
       "      <td>-4.141007</td>\n",
       "      <td>-4.574472</td>\n",
       "      <td>-3.431909</td>\n",
       "      <td>-1.950791</td>\n",
       "      <td>-1.107067</td>\n",
       "      <td>-0.632322</td>\n",
       "      <td>...</td>\n",
       "      <td>-0.032477</td>\n",
       "      <td>0.022847</td>\n",
       "      <td>0.188937</td>\n",
       "      <td>0.480932</td>\n",
       "      <td>0.629250</td>\n",
       "      <td>0.577291</td>\n",
       "      <td>0.665527</td>\n",
       "      <td>1.035997</td>\n",
       "      <td>1.492287</td>\n",
       "      <td>-1.905073</td>\n",
       "    </tr>\n",
       "    <tr>\n",
       "      <th>1</th>\n",
       "      <td>1</td>\n",
       "      <td>-1.348132</td>\n",
       "      <td>-3.996038</td>\n",
       "      <td>-4.226750</td>\n",
       "      <td>-4.251187</td>\n",
       "      <td>-3.477953</td>\n",
       "      <td>-2.228422</td>\n",
       "      <td>-1.808488</td>\n",
       "      <td>-1.534242</td>\n",
       "      <td>-0.779861</td>\n",
       "      <td>...</td>\n",
       "      <td>0.937984</td>\n",
       "      <td>1.570938</td>\n",
       "      <td>1.591394</td>\n",
       "      <td>1.549193</td>\n",
       "      <td>1.193077</td>\n",
       "      <td>0.515134</td>\n",
       "      <td>0.126274</td>\n",
       "      <td>0.267532</td>\n",
       "      <td>1.071148</td>\n",
       "      <td>-1.164009</td>\n",
       "    </tr>\n",
       "    <tr>\n",
       "      <th>2</th>\n",
       "      <td>1</td>\n",
       "      <td>1.024295</td>\n",
       "      <td>-0.590314</td>\n",
       "      <td>-1.916949</td>\n",
       "      <td>-2.806989</td>\n",
       "      <td>-3.527905</td>\n",
       "      <td>-3.638675</td>\n",
       "      <td>-2.779767</td>\n",
       "      <td>-2.019031</td>\n",
       "      <td>-1.980754</td>\n",
       "      <td>...</td>\n",
       "      <td>0.368820</td>\n",
       "      <td>0.443502</td>\n",
       "      <td>0.827582</td>\n",
       "      <td>1.237007</td>\n",
       "      <td>1.235121</td>\n",
       "      <td>1.738103</td>\n",
       "      <td>1.800767</td>\n",
       "      <td>1.816301</td>\n",
       "      <td>1.473963</td>\n",
       "      <td>1.389767</td>\n",
       "    </tr>\n",
       "    <tr>\n",
       "      <th>3</th>\n",
       "      <td>1</td>\n",
       "      <td>0.545657</td>\n",
       "      <td>-1.014383</td>\n",
       "      <td>-2.316698</td>\n",
       "      <td>-3.634040</td>\n",
       "      <td>-4.196857</td>\n",
       "      <td>-3.758093</td>\n",
       "      <td>-3.194444</td>\n",
       "      <td>-2.221764</td>\n",
       "      <td>-1.588554</td>\n",
       "      <td>...</td>\n",
       "      <td>0.894638</td>\n",
       "      <td>0.777530</td>\n",
       "      <td>1.119240</td>\n",
       "      <td>0.902984</td>\n",
       "      <td>0.554098</td>\n",
       "      <td>0.497053</td>\n",
       "      <td>0.418116</td>\n",
       "      <td>0.703108</td>\n",
       "      <td>1.064602</td>\n",
       "      <td>-0.044853</td>\n",
       "    </tr>\n",
       "    <tr>\n",
       "      <th>4</th>\n",
       "      <td>1</td>\n",
       "      <td>0.661133</td>\n",
       "      <td>-1.552471</td>\n",
       "      <td>-3.124641</td>\n",
       "      <td>-4.313351</td>\n",
       "      <td>-4.017042</td>\n",
       "      <td>-3.005993</td>\n",
       "      <td>-1.832411</td>\n",
       "      <td>-1.503886</td>\n",
       "      <td>-1.071705</td>\n",
       "      <td>...</td>\n",
       "      <td>1.416582</td>\n",
       "      <td>1.280823</td>\n",
       "      <td>1.494316</td>\n",
       "      <td>1.618764</td>\n",
       "      <td>1.447449</td>\n",
       "      <td>1.238577</td>\n",
       "      <td>1.749692</td>\n",
       "      <td>1.986803</td>\n",
       "      <td>1.422756</td>\n",
       "      <td>-0.357784</td>\n",
       "    </tr>\n",
       "    <tr>\n",
       "      <th>5</th>\n",
       "      <td>1</td>\n",
       "      <td>1.649272</td>\n",
       "      <td>1.121169</td>\n",
       "      <td>-0.628753</td>\n",
       "      <td>-1.939899</td>\n",
       "      <td>-3.439175</td>\n",
       "      <td>-4.010776</td>\n",
       "      <td>-3.238067</td>\n",
       "      <td>-2.127737</td>\n",
       "      <td>-1.798465</td>\n",
       "      <td>...</td>\n",
       "      <td>0.229317</td>\n",
       "      <td>0.636727</td>\n",
       "      <td>1.166689</td>\n",
       "      <td>1.062871</td>\n",
       "      <td>1.628234</td>\n",
       "      <td>2.175072</td>\n",
       "      <td>2.500749</td>\n",
       "      <td>2.092176</td>\n",
       "      <td>1.455313</td>\n",
       "      <td>2.124303</td>\n",
       "    </tr>\n",
       "    <tr>\n",
       "      <th>6</th>\n",
       "      <td>1</td>\n",
       "      <td>-0.323103</td>\n",
       "      <td>-1.510804</td>\n",
       "      <td>-2.768216</td>\n",
       "      <td>-3.788649</td>\n",
       "      <td>-4.100396</td>\n",
       "      <td>-3.516576</td>\n",
       "      <td>-2.940032</td>\n",
       "      <td>-1.828790</td>\n",
       "      <td>-1.089045</td>\n",
       "      <td>...</td>\n",
       "      <td>1.421767</td>\n",
       "      <td>1.052238</td>\n",
       "      <td>0.213416</td>\n",
       "      <td>-1.003917</td>\n",
       "      <td>-1.676931</td>\n",
       "      <td>-2.055868</td>\n",
       "      <td>-1.968963</td>\n",
       "      <td>-1.548612</td>\n",
       "      <td>-1.411230</td>\n",
       "      <td>-2.620855</td>\n",
       "    </tr>\n",
       "    <tr>\n",
       "      <th>7</th>\n",
       "      <td>1</td>\n",
       "      <td>-1.309274</td>\n",
       "      <td>-4.045362</td>\n",
       "      <td>-4.757328</td>\n",
       "      <td>-4.657040</td>\n",
       "      <td>-3.634479</td>\n",
       "      <td>-2.469447</td>\n",
       "      <td>-1.640088</td>\n",
       "      <td>-1.408992</td>\n",
       "      <td>-0.706937</td>\n",
       "      <td>...</td>\n",
       "      <td>0.651832</td>\n",
       "      <td>1.371353</td>\n",
       "      <td>1.257078</td>\n",
       "      <td>1.246964</td>\n",
       "      <td>1.156629</td>\n",
       "      <td>0.311326</td>\n",
       "      <td>-0.325923</td>\n",
       "      <td>-0.385273</td>\n",
       "      <td>0.385835</td>\n",
       "      <td>-0.393619</td>\n",
       "    </tr>\n",
       "    <tr>\n",
       "      <th>8</th>\n",
       "      <td>1</td>\n",
       "      <td>-1.736906</td>\n",
       "      <td>-3.647089</td>\n",
       "      <td>-4.005470</td>\n",
       "      <td>-4.413745</td>\n",
       "      <td>-4.082557</td>\n",
       "      <td>-3.234594</td>\n",
       "      <td>-1.935797</td>\n",
       "      <td>-1.367653</td>\n",
       "      <td>-1.055027</td>\n",
       "      <td>...</td>\n",
       "      <td>1.085795</td>\n",
       "      <td>1.130086</td>\n",
       "      <td>1.317606</td>\n",
       "      <td>1.181094</td>\n",
       "      <td>0.976701</td>\n",
       "      <td>0.541003</td>\n",
       "      <td>0.288060</td>\n",
       "      <td>0.479704</td>\n",
       "      <td>0.658353</td>\n",
       "      <td>-0.326727</td>\n",
       "    </tr>\n",
       "    <tr>\n",
       "      <th>9</th>\n",
       "      <td>1</td>\n",
       "      <td>-1.101873</td>\n",
       "      <td>-1.965967</td>\n",
       "      <td>-2.399643</td>\n",
       "      <td>-2.905194</td>\n",
       "      <td>-3.107600</td>\n",
       "      <td>-3.041231</td>\n",
       "      <td>-2.105358</td>\n",
       "      <td>-1.621213</td>\n",
       "      <td>-1.589307</td>\n",
       "      <td>...</td>\n",
       "      <td>1.390032</td>\n",
       "      <td>1.436628</td>\n",
       "      <td>0.931638</td>\n",
       "      <td>0.332091</td>\n",
       "      <td>0.409455</td>\n",
       "      <td>0.489593</td>\n",
       "      <td>0.890026</td>\n",
       "      <td>1.026954</td>\n",
       "      <td>0.937848</td>\n",
       "      <td>0.321598</td>\n",
       "    </tr>\n",
       "  </tbody>\n",
       "</table>\n",
       "<p>10 rows × 141 columns</p>\n",
       "</div>"
      ],
      "text/plain": [
       "   label        P1        P2        P3        P4        P5        P6  \\\n",
       "0      1  3.690844  0.711414 -2.114092 -4.141007 -4.574472 -3.431909   \n",
       "1      1 -1.348132 -3.996038 -4.226750 -4.251187 -3.477953 -2.228422   \n",
       "2      1  1.024295 -0.590314 -1.916949 -2.806989 -3.527905 -3.638675   \n",
       "3      1  0.545657 -1.014383 -2.316698 -3.634040 -4.196857 -3.758093   \n",
       "4      1  0.661133 -1.552471 -3.124641 -4.313351 -4.017042 -3.005993   \n",
       "5      1  1.649272  1.121169 -0.628753 -1.939899 -3.439175 -4.010776   \n",
       "6      1 -0.323103 -1.510804 -2.768216 -3.788649 -4.100396 -3.516576   \n",
       "7      1 -1.309274 -4.045362 -4.757328 -4.657040 -3.634479 -2.469447   \n",
       "8      1 -1.736906 -3.647089 -4.005470 -4.413745 -4.082557 -3.234594   \n",
       "9      1 -1.101873 -1.965967 -2.399643 -2.905194 -3.107600 -3.041231   \n",
       "\n",
       "         P7        P8        P9  ...      P131      P132      P133      P134  \\\n",
       "0 -1.950791 -1.107067 -0.632322  ... -0.032477  0.022847  0.188937  0.480932   \n",
       "1 -1.808488 -1.534242 -0.779861  ...  0.937984  1.570938  1.591394  1.549193   \n",
       "2 -2.779767 -2.019031 -1.980754  ...  0.368820  0.443502  0.827582  1.237007   \n",
       "3 -3.194444 -2.221764 -1.588554  ...  0.894638  0.777530  1.119240  0.902984   \n",
       "4 -1.832411 -1.503886 -1.071705  ...  1.416582  1.280823  1.494316  1.618764   \n",
       "5 -3.238067 -2.127737 -1.798465  ...  0.229317  0.636727  1.166689  1.062871   \n",
       "6 -2.940032 -1.828790 -1.089045  ...  1.421767  1.052238  0.213416 -1.003917   \n",
       "7 -1.640088 -1.408992 -0.706937  ...  0.651832  1.371353  1.257078  1.246964   \n",
       "8 -1.935797 -1.367653 -1.055027  ...  1.085795  1.130086  1.317606  1.181094   \n",
       "9 -2.105358 -1.621213 -1.589307  ...  1.390032  1.436628  0.931638  0.332091   \n",
       "\n",
       "       P135      P136      P137      P138      P139      P140  \n",
       "0  0.629250  0.577291  0.665527  1.035997  1.492287 -1.905073  \n",
       "1  1.193077  0.515134  0.126274  0.267532  1.071148 -1.164009  \n",
       "2  1.235121  1.738103  1.800767  1.816301  1.473963  1.389767  \n",
       "3  0.554098  0.497053  0.418116  0.703108  1.064602 -0.044853  \n",
       "4  1.447449  1.238577  1.749692  1.986803  1.422756 -0.357784  \n",
       "5  1.628234  2.175072  2.500749  2.092176  1.455313  2.124303  \n",
       "6 -1.676931 -2.055868 -1.968963 -1.548612 -1.411230 -2.620855  \n",
       "7  1.156629  0.311326 -0.325923 -0.385273  0.385835 -0.393619  \n",
       "8  0.976701  0.541003  0.288060  0.479704  0.658353 -0.326727  \n",
       "9  0.409455  0.489593  0.890026  1.026954  0.937848  0.321598  \n",
       "\n",
       "[10 rows x 141 columns]"
      ]
     },
     "execution_count": 6,
     "metadata": {},
     "output_type": "execute_result"
    }
   ],
   "source": [
    "# every sample is a ECG fragment, a Time Series with 140 points (columns from P1 to P140)\n",
    "data.columns = columns\n",
    "data.head(10)"
   ]
  },
  {
   "cell_type": "code",
   "execution_count": 7,
   "metadata": {},
   "outputs": [
    {
     "data": {
      "text/plain": [
       "4500"
      ]
     },
     "execution_count": 7,
     "metadata": {},
     "output_type": "execute_result"
    }
   ],
   "source": [
    "# how many samples?\n",
    "len(data)"
   ]
  },
  {
   "cell_type": "code",
   "execution_count": 8,
   "metadata": {},
   "outputs": [],
   "source": [
    "# prepare the data for training\n",
    "data_vec = data.to_numpy()"
   ]
  },
  {
   "cell_type": "code",
   "execution_count": 9,
   "metadata": {},
   "outputs": [],
   "source": [
    "# function to plot a single ECG fragment\n",
    "def plot_ecg(vec, index):\n",
    "    '''\n",
    "    vec is the entire set of data\n",
    "    index identify the fragment to visualize\n",
    "    '''\n",
    "    label = vec[index, 0]\n",
    "    \n",
    "    vet = vec[index, 1:]\n",
    "    time = np.arange(len(vet))\n",
    "\n",
    "    plt.figure(figsize = (12,6))\n",
    "\n",
    "    plt.plot(time, vet, 'b')\n",
    "\n",
    "    plt.xlabel('Time')\n",
    "    plt.ylabel('Signal')\n",
    "    \n",
    "    print(\"Label is: %d\" %(label))\n",
    "    plt.show()"
   ]
  },
  {
   "cell_type": "code",
   "execution_count": 10,
   "metadata": {},
   "outputs": [],
   "source": [
    "# to work with NN it is better to have in input small numbers (close to 0)\n",
    "\n",
    "# scale in (0,1) but mantains curve shape\n",
    "# min, max scaling\n",
    "def scale_ecg(vec):\n",
    "    new_vec = (vec - vec.min())/(vec.max() - vec.min())\n",
    "    return new_vec"
   ]
  },
  {
   "cell_type": "code",
   "execution_count": 11,
   "metadata": {},
   "outputs": [
    {
     "name": "stdout",
     "output_type": "stream",
     "text": [
      "Label is: 1\n"
     ]
    },
    {
     "data": {
      "image/png": "[encoded data removed]",
      "text/plain": [
       "<Figure size 864x432 with 1 Axes>"
      ]
     },
     "metadata": {
      "needs_background": "light"
     },
     "output_type": "display_data"
    }
   ],
   "source": [
    "# let's see a random ECG sample (fragment)\n",
    "INDEX = 1000\n",
    "\n",
    "plot_ecg(data_vec, INDEX)"
   ]
  },
  {
   "cell_type": "code",
   "execution_count": 12,
   "metadata": {},
   "outputs": [
    {
     "data": {
      "text/plain": [
       "label\n",
       "1    2627\n",
       "2    1590\n",
       "3      86\n",
       "4     175\n",
       "5      22\n",
       "Name: P1, dtype: int64"
      ]
     },
     "execution_count": 12,
     "metadata": {},
     "output_type": "execute_result"
    }
   ],
   "source": [
    "#  let's see how many distinct labels (categories)\n",
    "numbers = data.groupby('label').count()\n",
    "\n",
    "numbers['P1']"
   ]
  },
  {
   "cell_type": "code",
   "execution_count": 13,
   "metadata": {},
   "outputs": [
    {
     "data": {
      "image/png": "[encoded data removed]",
      "text/plain": [
       "<Figure size 576x432 with 1 Axes>"
      ]
     },
     "metadata": {
      "needs_background": "light"
     },
     "output_type": "display_data"
    }
   ],
   "source": [
    "# here we have a nice hystogram. As usual most are OK fragments (label = 1)\n",
    "# others are anomalous\n",
    "\n",
    "bins = np.array([0])\n",
    "\n",
    "bins = np.append(bins, data['label'].unique())\n",
    "\n",
    "bins = bins + 0.5\n",
    "\n",
    "plt.figure(figsize = (8,6))\n",
    "sns.distplot(data['label'], bins = bins, kde= False, color = 'red');"
   ]
  },
  {
   "cell_type": "code",
   "execution_count": 14,
   "metadata": {},
   "outputs": [],
   "source": [
    "# for AutoEncoder training let's take only NORMAL (label = 1) fragments\n",
    "condition = (data['label'] == 1)\n",
    "\n",
    "# we use onlu data_normal for training the Encoder\n",
    "data_normal = data[condition]\n",
    "\n",
    "X = np.array(data_normal)\n",
    "\n",
    "# drop first column (target)\n",
    "X = X[:, 1:]"
   ]
  },
  {
   "cell_type": "code",
   "execution_count": 15,
   "metadata": {},
   "outputs": [],
   "source": [
    "# scale the values\n",
    "X_scaled = scale_ecg(X)"
   ]
  },
  {
   "cell_type": "code",
   "execution_count": 16,
   "metadata": {},
   "outputs": [
    {
     "data": {
      "text/plain": [
       "(2627, 140)"
      ]
     },
     "execution_count": 16,
     "metadata": {},
     "output_type": "execute_result"
    }
   ],
   "source": [
    "X_scaled.shape"
   ]
  },
  {
   "cell_type": "code",
   "execution_count": 17,
   "metadata": {},
   "outputs": [
    {
     "name": "stdout",
     "output_type": "stream",
     "text": [
      "Label is: 0\n"
     ]
    },
    {
     "data": {
      "image/png": "[encoded data removed]",
      "text/plain": [
       "<Figure size 864x432 with 1 Axes>"
      ]
     },
     "metadata": {
      "needs_background": "light"
     },
     "output_type": "display_data"
    }
   ],
   "source": [
    "plot_ecg(X_scaled, 1000)"
   ]
  },
  {
   "cell_type": "code",
   "execution_count": 18,
   "metadata": {},
   "outputs": [],
   "source": [
    "# here we define AutoEncoder architecture\n",
    "\n",
    "def build_model(input_num):\n",
    "    N1 = 64\n",
    "    N2 = 32\n",
    "    N3 = 16\n",
    "    # from Chollet blog (check for improving!)\n",
    "    my_reg = keras.regularizers.l1(10e-6)\n",
    "\n",
    "    # con elu it is worse\n",
    "    my_act = \"relu\"\n",
    "\n",
    "    # Input layer:\n",
    "    model = Sequential()\n",
    "\n",
    "    # First hidden layer, connected to input vector X. \n",
    "    model.add(Dense(N1, activation = my_act, input_shape=(input_num,), \n",
    "                # suggested from Chollet Blog on Autoencoders\n",
    "                activity_regularizer = my_reg \n",
    "               )\n",
    "         )\n",
    "    model.add(Dense(N2,activation = my_act, activity_regularizer = my_reg))\n",
    "    model.add(Dense(N3,activation = my_act, activity_regularizer = my_reg))\n",
    "    model.add(Dense(N2, activation = my_act))\n",
    "    model.add(Dense(N1, activation = my_act))\n",
    "    model.add(Dense(input_num))\n",
    "\n",
    "    model.compile(loss='mse', optimizer='adam')\n",
    "    \n",
    "    return model"
   ]
  },
  {
   "cell_type": "code",
   "execution_count": 19,
   "metadata": {},
   "outputs": [],
   "source": [
    "# define the NN\n",
    "\n",
    "# the autoencoder is made by two part:\n",
    "# 1. encoder\n",
    "# 2. decoder\n",
    "\n",
    "# NN is trained to reconstruct the input and the goal is to have a reconstruction error small as possible\n",
    "\n",
    "seed(1234)\n",
    "tf.random.set_seed(1234)\n",
    "\n",
    "# number of data point in every fragment\n",
    "input_num = 140\n",
    "\n",
    "model = build_model(input_num)"
   ]
  },
  {
   "cell_type": "code",
   "execution_count": 20,
   "metadata": {},
   "outputs": [
    {
     "name": "stdout",
     "output_type": "stream",
     "text": [
      "Model: \"sequential\"\n",
      "_________________________________________________________________\n",
      "Layer (type)                 Output Shape              Param #   \n",
      "=================================================================\n",
      "dense (Dense)                (None, 64)                9024      \n",
      "_________________________________________________________________\n",
      "dense_1 (Dense)              (None, 32)                2080      \n",
      "_________________________________________________________________\n",
      "dense_2 (Dense)              (None, 16)                528       \n",
      "_________________________________________________________________\n",
      "dense_3 (Dense)              (None, 32)                544       \n",
      "_________________________________________________________________\n",
      "dense_4 (Dense)              (None, 64)                2112      \n",
      "_________________________________________________________________\n",
      "dense_5 (Dense)              (None, 140)               9100      \n",
      "=================================================================\n",
      "Total params: 23,388\n",
      "Trainable params: 23,388\n",
      "Non-trainable params: 0\n",
      "_________________________________________________________________\n"
     ]
    }
   ],
   "source": [
    "# as we can see the network has input = 140, output = 140 !!!\n",
    "model.summary()"
   ]
  },
  {
   "cell_type": "code",
   "execution_count": 21,
   "metadata": {},
   "outputs": [],
   "source": [
    "# Train the model\n",
    "NUM_EPOCHS = 2500\n",
    "BATCH_SIZE = 128\n",
    "VAL_SPLIT = 0.1\n",
    "NO_VERBOSE = 0\n",
    "\n",
    "import time\n",
    "\n",
    "t_start = time.time()\n",
    "\n",
    "history = model.fit(X_scaled, X_scaled, batch_size = BATCH_SIZE, epochs = NUM_EPOCHS, \n",
    "                           validation_split = VAL_SPLIT, verbose = 0)\n",
    "\n",
    "# compute the training time\n",
    "t_ela = time.time() - t_start"
   ]
  },
  {
   "cell_type": "code",
   "execution_count": 22,
   "metadata": {},
   "outputs": [
    {
     "name": "stdout",
     "output_type": "stream",
     "text": [
      "Training time (sec):  167.8\n"
     ]
    }
   ],
   "source": [
    "print('Training time (sec): ', round(t_ela, 1))"
   ]
  },
  {
   "cell_type": "code",
   "execution_count": 23,
   "metadata": {},
   "outputs": [],
   "source": [
    "# dataset is not so big, NN is not so big, therefore you can train also on a modern laptop, in 10 mns.\n",
    "# cool!"
   ]
  },
  {
   "cell_type": "code",
   "execution_count": 24,
   "metadata": {},
   "outputs": [
    {
     "data": {
      "image/png": "[encoded data removed]",
      "text/plain": [
       "<Figure size 864x576 with 1 Axes>"
      ]
     },
     "metadata": {
      "needs_background": "light"
     },
     "output_type": "display_data"
    }
   ],
   "source": [
    "# visualize loss for the training\n",
    "plt.figure(figsize = (12,8))\n",
    "hist_loss = history.history['loss']\n",
    "hist_val_loss = history.history['val_loss']\n",
    "\n",
    "plt.plot(hist_loss,'b', label='Training loss')\n",
    "plt.plot(hist_val_loss,'r', label='Validation loss')\n",
    "\n",
    "plt.legend(loc='upper right')\n",
    "plt.xlabel('Epochs')\n",
    "plt.ylabel('Loss (mse)')\n",
    "plt.ylim([0, 0.0005])\n",
    "\n",
    "plt.show()"
   ]
  },
  {
   "cell_type": "code",
   "execution_count": 25,
   "metadata": {},
   "outputs": [
    {
     "data": {
      "text/plain": [
       "(0.0, 0.03)"
      ]
     },
     "execution_count": 25,
     "metadata": {},
     "output_type": "execute_result"
    },
    {
     "data": {
      "image/png": "[encoded data removed]",
      "text/plain": [
       "<Figure size 864x576 with 1 Axes>"
      ]
     },
     "metadata": {
      "needs_background": "light"
     },
     "output_type": "display_data"
    }
   ],
   "source": [
    "# prediction on train \n",
    "# RE: reconstruction error, calculated as MAE\n",
    "\n",
    "# the network must reconstruct the input... therefore predict values should be as close as possible to input\n",
    "X_pred = model.predict(X_scaled)\n",
    "\n",
    "scored = pd.DataFrame()\n",
    "\n",
    "# for every point compute the Reconstruction Error as Maximum Absolute Error (MAE)\n",
    "scored['RE'] = np.mean(np.abs(X_pred - X_scaled), axis = 1)\n",
    "\n",
    "# histogram\n",
    "plt.figure(figsize = (12,8))\n",
    "sns.distplot(scored['RE'], bins = 100, kde= True, color = 'red');\n",
    "\n",
    "plt.xlim([0.0,0.03])"
   ]
  },
  {
   "cell_type": "code",
   "execution_count": 26,
   "metadata": {},
   "outputs": [],
   "source": [
    "# from the plot we can see that for every sample the RE is almost every time less than 0.0215\n",
    "# (it is an hyper-parameter of the model)\n",
    "THRESHOLD = 0.0215"
   ]
  },
  {
   "cell_type": "code",
   "execution_count": 27,
   "metadata": {},
   "outputs": [],
   "source": [
    "# we have trained only on normal ECG fragment. Let's see if we work on all the samples in the test set (the TRAIN from the site) (normal + anomalous)\n",
    "# using the hold out ECG5000_TRAIN test set\n",
    "\n",
    "FILE_NAME_TEST = \"ECG5000_TRAIN.txt\"\n",
    "\n",
    "data_test = pd.read_csv(FILE_NAME_TEST, delim_whitespace = True, header=None, engine = 'python')\n",
    "\n",
    "data_test.columns = columns\n",
    "data['label'] = data['label'].astype('int32')"
   ]
  },
  {
   "cell_type": "code",
   "execution_count": 28,
   "metadata": {},
   "outputs": [],
   "source": [
    "X_test_old = np.array(data_test)\n",
    "X_test = np.array(data_test)\n",
    "\n",
    "# remove first column (label)\n",
    "X_test = X_test[:, 1:]"
   ]
  },
  {
   "cell_type": "code",
   "execution_count": 29,
   "metadata": {},
   "outputs": [],
   "source": [
    "# rememeber that we need to scale before inputting to the NN\n",
    "X_test_scaled = scale_ecg(X_test)"
   ]
  },
  {
   "cell_type": "code",
   "execution_count": 30,
   "metadata": {},
   "outputs": [
    {
     "data": {
      "text/plain": [
       "(0.0, 0.1)"
      ]
     },
     "execution_count": 30,
     "metadata": {},
     "output_type": "execute_result"
    },
    {
     "data": {
      "image/png": "[encoded data removed]",
      "text/plain": [
       "<Figure size 864x576 with 1 Axes>"
      ]
     },
     "metadata": {
      "needs_background": "light"
     },
     "output_type": "display_data"
    }
   ],
   "source": [
    "# compute prediction on TEST\n",
    "X_pred_test = model.predict(X_test_scaled)\n",
    "\n",
    "# collect data in DataFrame scored_test\n",
    "scored_test = pd.DataFrame()\n",
    "\n",
    "# for every point compute the reconstruction error as MAE\n",
    "scored_test['RE'] = np.mean(np.abs(X_pred_test - X_test_scaled), axis = 1)\n",
    "# add the label\n",
    "scored_test['label'] = X_test_old[:, 0]\n",
    "# register as anomalous if label gt 1 (this is the ground truth)\n",
    "scored_test['Anomaly_reg'] = (scored_test['label'] != 1)\n",
    "# register the prediction from the model with THRESHOLD\n",
    "scored_test['Anomaly_pred'] = scored_test['RE'] > THRESHOLD\n",
    "\n",
    "# histogram of the RE\n",
    "plt.figure(figsize = (12,8))\n",
    "\n",
    "# histogram\n",
    "sns.distplot(scored_test['RE'], bins = 60, kde = True, color = 'red');\n",
    "\n",
    "plt.xlim([0.0,0.1])\n",
    "\n",
    "# be careful, the xlimit in this second plot is higher than in the previous one\n",
    "# here we have a set of samples with RE > THRESHOLD.\n",
    "# could we call those anomalous?"
   ]
  },
  {
   "cell_type": "code",
   "execution_count": 31,
   "metadata": {},
   "outputs": [],
   "source": [
    "# if we compare the two hist, we see that in the TEST set (with normal + anomalous) we have a wider RE distribution, due to anomalous samples !!"
   ]
  },
  {
   "cell_type": "code",
   "execution_count": 32,
   "metadata": {},
   "outputs": [
    {
     "name": "stdout",
     "output_type": "stream",
     "text": [
      "Accuracy on TEST set is: 0.930\n"
     ]
    }
   ],
   "source": [
    "# let's compute accuracy if we take every sample with RE > THRESHOLDS as anomalous\n",
    "acc_condition = (scored_test['Anomaly_reg'] == scored_test['Anomaly_pred'])\n",
    "\n",
    "accuracy = sum(acc_condition)/X_test.shape[0]\n",
    "\n",
    "print(\"Accuracy on TEST set is: %.3f\" %(accuracy))"
   ]
  },
  {
   "cell_type": "code",
   "execution_count": 33,
   "metadata": {},
   "outputs": [],
   "source": [
    "# check: TEST set has the same distribution than TRAIN set?"
   ]
  },
  {
   "cell_type": "code",
   "execution_count": 34,
   "metadata": {},
   "outputs": [
    {
     "data": {
      "image/png": "[encoded data removed]",
      "text/plain": [
       "<Figure size 576x432 with 1 Axes>"
      ]
     },
     "metadata": {
      "needs_background": "light"
     },
     "output_type": "display_data"
    }
   ],
   "source": [
    "# have a look at distribution in TEST set\n",
    "\n",
    "# two lines to have bar centered around labels (1,2...). That's why adding 0.5\n",
    "bins = np.array([0])\n",
    "bins = np.append(bins, data_test['label'].unique()) + 0.5\n",
    "\n",
    "plt.figure(figsize = (8,6))\n",
    "sns.distplot(data_test['label'], bins = bins, kde= False, color = 'red');"
   ]
  },
  {
   "cell_type": "code",
   "execution_count": 35,
   "metadata": {},
   "outputs": [],
   "source": [
    "# Ok, TRAIN and TEST have the same distribution !"
   ]
  },
  {
   "cell_type": "code",
   "execution_count": 36,
   "metadata": {},
   "outputs": [],
   "source": [
    "# now we should calculate TP, FP, TN, FN\n",
    "# sensitivity and specificity for the test\n",
    "\n",
    "# accuracy is not the only relevant metric"
   ]
  },
  {
   "cell_type": "code",
   "execution_count": 37,
   "metadata": {},
   "outputs": [],
   "source": [
    "tp_condition = ((scored_test['Anomaly_reg'] == scored_test['Anomaly_pred']) & (scored_test['Anomaly_reg']))\n",
    "tn_condition = ((scored_test['Anomaly_reg'] == scored_test['Anomaly_pred']) & (scored_test['Anomaly_reg'] == False))\n",
    "fp_condition = ((scored_test['Anomaly_reg'] != scored_test['Anomaly_pred']) & (scored_test['Anomaly_reg'] == False))"
   ]
  },
  {
   "cell_type": "code",
   "execution_count": 38,
   "metadata": {},
   "outputs": [
    {
     "name": "stdout",
     "output_type": "stream",
     "text": [
      "Total samples:  500\n",
      "35 are incorrectly classified\n",
      "TP:  188\n",
      "TN:  277\n",
      "FP:  15\n",
      "FN:  20\n"
     ]
    }
   ],
   "source": [
    "TOTAL = data_test.shape[0]\n",
    "\n",
    "TP = sum(tp_condition)\n",
    "TN = sum(tn_condition)\n",
    "FP = sum(fp_condition)\n",
    "FN = TOTAL - (TP+TN+FP)\n",
    "\n",
    "print('Total samples: ', TOTAL)\n",
    "print(FP+FN, 'are incorrectly classified')\n",
    "print('TP: ',TP)\n",
    "print('TN: ',TN)\n",
    "print('FP: ',FP)\n",
    "print('FN: ', FN)"
   ]
  },
  {
   "cell_type": "code",
   "execution_count": 41,
   "metadata": {},
   "outputs": [
    {
     "name": "stdout",
     "output_type": "stream",
     "text": [
      "Sensitivity is:  0.904\n",
      "Specificity is:  0.949\n"
     ]
    }
   ],
   "source": [
    "sensitivity = float(TP)/(TP + FN)\n",
    "specificity = float(TN)/(FP + TN)\n",
    "\n",
    "# it is P(+|disease), the conditioned probability that an anomalous (disease) sample is correctly identified \n",
    "print('Sensitivity is: ', round(sensitivity, 3))\n",
    "# it is P(-|normal) the conditioned probability that an anomalous normal sample is correctly identified \n",
    "print('Specificity is: ', round(specificity, 3))"
   ]
  },
  {
   "cell_type": "code",
   "execution_count": 42,
   "metadata": {},
   "outputs": [],
   "source": [
    "# OK, we have 0.93 accuracy, but specificity is higher. Our model is slightly better at identyfing normal case than anomalous case\n",
    "\n",
    "# to improve\n",
    "# work on hyper-parameters (#of neurons for layer, THRESHOLD, ...)\n",
    "# add more sample\n",
    "# we could lower the THRESHOLD (but it will increase FN, it's a tradeoff)"
   ]
  },
  {
   "cell_type": "code",
   "execution_count": null,
   "metadata": {},
   "outputs": [],
   "source": [
    "# you could test what happen if you lower the THRESHOLD"
   ]
  }
 ],
 "metadata": {
  "kernelspec": {
   "display_name": "Python 3",
   "language": "python",
   "name": "python3"
  },
  "language_info": {
   "codemirror_mode": {
    "name": "ipython",
    "version": 3
   },
   "file_extension": ".py",
   "mimetype": "text/x-python",
   "name": "python",
   "nbconvert_exporter": "python",
   "pygments_lexer": "ipython3",
   "version": "3.6.10"
  }
 },
 "nbformat": 4,
 "nbformat_minor": 4
}
