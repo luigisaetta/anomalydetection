{
 "cells": [
  {
   "cell_type": "markdown",
   "metadata": {},
   "source": [
    "## Data Preparation for Anomaly Detection"
   ]
  },
  {
   "cell_type": "code",
   "execution_count": 1,
   "metadata": {},
   "outputs": [],
   "source": [
    "import os\n",
    "import pandas as pd\n",
    "import numpy as np\n",
    "from sklearn import preprocessing\n",
    "import seaborn as sns\n",
    "import matplotlib.pyplot as plt\n",
    "\n",
    "sns.set(color_codes=True)\n",
    "%matplotlib inline"
   ]
  },
  {
   "cell_type": "markdown",
   "metadata": {},
   "source": [
    "### Step 1: create a single data file"
   ]
  },
  {
   "cell_type": "code",
   "execution_count": 2,
   "metadata": {},
   "outputs": [
    {
     "name": "stdout",
     "output_type": "stream",
     "text": [
      "............................................................................................................................................................................................................................................................................................................................................................................................................................................................................................................................................................................................................................................................................................................................................................................................................................................................................................................................................................................................................................................................................................................................................................................................................................................................................................................................................................................................................................................................................................................................................................................................................................................................................................................................................................................................................................................................................................................................................................................................................................................................................................................................................................................................................................................\n",
      "Total files processed: 2156\n"
     ]
    }
   ],
   "source": [
    "# this first section reads all the files, calculate the mean for each one and add a single row\n",
    "# to the RESULT_FILE. THe RESULT_FILE will be saved as csv and used for the model development\n",
    "#\n",
    "# each detail file is 1 sec and contains 20K points (8 readings (8 sensor) for point)\n",
    "\n",
    "# nome del file finale\n",
    "RESULT_FILE_NAME = \"BearingNasaTest1.csv\"\n",
    "\n",
    "# directory dei dati che usiamo\n",
    "data_dir = 'bearings/1st_test'\n",
    "\n",
    "# This dataframe will contain a songle row (with mean) for file\n",
    "result_data = pd.DataFrame()\n",
    "\n",
    "n_files = 0\n",
    "\n",
    "for filename in os.listdir(data_dir):\n",
    "\n",
    "    n_files += 1    \n",
    "    # simple progress bar (one point per file)\n",
    "    print(\".\", end = '')\n",
    "    \n",
    "    file = pd.read_csv(os.path.join(data_dir, filename), sep='\\t')\n",
    "    \n",
    "    # calcolo la media, colonna per colonna, su tutto il file\n",
    "    # troncare max 4 cifre decimali (nel file sono 3)\n",
    "    # è importante prendere abs !!!\n",
    "    \n",
    "    file_mean_abs = np.array(round(file.abs().mean(), 4))\n",
    "    \n",
    "    # risultato: shape (8,)\n",
    "    # fa la reshape per aggiungere come riga al dataframe\n",
    "    file_mean_abs = pd.DataFrame(file_mean_abs.reshape(1, 8))\n",
    "    \n",
    "    # usa come indice il nome del file (quindi data ed ora)\n",
    "    file_mean_abs.index = [filename]\n",
    "    \n",
    "    # aggiunge al dataframe complessivo\n",
    "    result_data = result_data.append(file_mean_abs)\n",
    "\n",
    "# in test1 we have 2 sensors (acc. x, y axis) for each bearing, 8 readings a time\n",
    "print(\"\")\n",
    "print((\"Total files processed: %d\" %(n_files)))\n",
    "\n",
    "result_data.columns = ['Br11','Br12','Br21','Br22', 'Br31','Br32','Br41','Br42']"
   ]
  },
  {
   "cell_type": "code",
   "execution_count": 3,
   "metadata": {},
   "outputs": [
    {
     "data": {
      "text/html": [
       "<div>\n",
       "<style scoped>\n",
       "    .dataframe tbody tr th:only-of-type {\n",
       "        vertical-align: middle;\n",
       "    }\n",
       "\n",
       "    .dataframe tbody tr th {\n",
       "        vertical-align: top;\n",
       "    }\n",
       "\n",
       "    .dataframe thead th {\n",
       "        text-align: right;\n",
       "    }\n",
       "</style>\n",
       "<table border=\"1\" class=\"dataframe\">\n",
       "  <thead>\n",
       "    <tr style=\"text-align: right;\">\n",
       "      <th></th>\n",
       "      <th>Br11</th>\n",
       "      <th>Br12</th>\n",
       "      <th>Br21</th>\n",
       "      <th>Br22</th>\n",
       "      <th>Br31</th>\n",
       "      <th>Br32</th>\n",
       "      <th>Br41</th>\n",
       "      <th>Br42</th>\n",
       "    </tr>\n",
       "  </thead>\n",
       "  <tbody>\n",
       "    <tr>\n",
       "      <th>2003.10.22.12.06.24</th>\n",
       "      <td>0.1041</td>\n",
       "      <td>0.1003</td>\n",
       "      <td>0.1071</td>\n",
       "      <td>0.1020</td>\n",
       "      <td>0.1061</td>\n",
       "      <td>0.1082</td>\n",
       "      <td>0.0948</td>\n",
       "      <td>0.0995</td>\n",
       "    </tr>\n",
       "    <tr>\n",
       "      <th>2003.10.22.12.09.13</th>\n",
       "      <td>0.1037</td>\n",
       "      <td>0.0999</td>\n",
       "      <td>0.1082</td>\n",
       "      <td>0.1029</td>\n",
       "      <td>0.1067</td>\n",
       "      <td>0.1085</td>\n",
       "      <td>0.0951</td>\n",
       "      <td>0.0936</td>\n",
       "    </tr>\n",
       "    <tr>\n",
       "      <th>2003.10.22.12.14.13</th>\n",
       "      <td>0.1050</td>\n",
       "      <td>0.1015</td>\n",
       "      <td>0.1085</td>\n",
       "      <td>0.1040</td>\n",
       "      <td>0.1087</td>\n",
       "      <td>0.1099</td>\n",
       "      <td>0.0962</td>\n",
       "      <td>0.0983</td>\n",
       "    </tr>\n",
       "    <tr>\n",
       "      <th>2003.10.22.12.19.13</th>\n",
       "      <td>0.1049</td>\n",
       "      <td>0.1016</td>\n",
       "      <td>0.1082</td>\n",
       "      <td>0.1034</td>\n",
       "      <td>0.1081</td>\n",
       "      <td>0.1100</td>\n",
       "      <td>0.0968</td>\n",
       "      <td>0.0986</td>\n",
       "    </tr>\n",
       "    <tr>\n",
       "      <th>2003.10.22.12.24.13</th>\n",
       "      <td>0.1048</td>\n",
       "      <td>0.1022</td>\n",
       "      <td>0.1079</td>\n",
       "      <td>0.1026</td>\n",
       "      <td>0.1085</td>\n",
       "      <td>0.1093</td>\n",
       "      <td>0.0964</td>\n",
       "      <td>0.0985</td>\n",
       "    </tr>\n",
       "  </tbody>\n",
       "</table>\n",
       "</div>"
      ],
      "text/plain": [
       "                       Br11    Br12    Br21    Br22    Br31    Br32    Br41  \\\n",
       "2003.10.22.12.06.24  0.1041  0.1003  0.1071  0.1020  0.1061  0.1082  0.0948   \n",
       "2003.10.22.12.09.13  0.1037  0.0999  0.1082  0.1029  0.1067  0.1085  0.0951   \n",
       "2003.10.22.12.14.13  0.1050  0.1015  0.1085  0.1040  0.1087  0.1099  0.0962   \n",
       "2003.10.22.12.19.13  0.1049  0.1016  0.1082  0.1034  0.1081  0.1100  0.0968   \n",
       "2003.10.22.12.24.13  0.1048  0.1022  0.1079  0.1026  0.1085  0.1093  0.0964   \n",
       "\n",
       "                       Br42  \n",
       "2003.10.22.12.06.24  0.0995  \n",
       "2003.10.22.12.09.13  0.0936  \n",
       "2003.10.22.12.14.13  0.0983  \n",
       "2003.10.22.12.19.13  0.0986  \n",
       "2003.10.22.12.24.13  0.0985  "
      ]
     },
     "execution_count": 3,
     "metadata": {},
     "output_type": "execute_result"
    }
   ],
   "source": [
    "result_data.head()"
   ]
  },
  {
   "cell_type": "code",
   "execution_count": 4,
   "metadata": {},
   "outputs": [
    {
     "data": {
      "text/html": [
       "<div>\n",
       "<style scoped>\n",
       "    .dataframe tbody tr th:only-of-type {\n",
       "        vertical-align: middle;\n",
       "    }\n",
       "\n",
       "    .dataframe tbody tr th {\n",
       "        vertical-align: top;\n",
       "    }\n",
       "\n",
       "    .dataframe thead th {\n",
       "        text-align: right;\n",
       "    }\n",
       "</style>\n",
       "<table border=\"1\" class=\"dataframe\">\n",
       "  <thead>\n",
       "    <tr style=\"text-align: right;\">\n",
       "      <th></th>\n",
       "      <th>Br11</th>\n",
       "      <th>Br12</th>\n",
       "      <th>Br21</th>\n",
       "      <th>Br22</th>\n",
       "      <th>Br31</th>\n",
       "      <th>Br32</th>\n",
       "      <th>Br41</th>\n",
       "      <th>Br42</th>\n",
       "    </tr>\n",
       "  </thead>\n",
       "  <tbody>\n",
       "    <tr>\n",
       "      <th>2003-10-22 12:06:24</th>\n",
       "      <td>0.1041</td>\n",
       "      <td>0.1003</td>\n",
       "      <td>0.1071</td>\n",
       "      <td>0.1020</td>\n",
       "      <td>0.1061</td>\n",
       "      <td>0.1082</td>\n",
       "      <td>0.0948</td>\n",
       "      <td>0.0995</td>\n",
       "    </tr>\n",
       "    <tr>\n",
       "      <th>2003-10-22 12:09:13</th>\n",
       "      <td>0.1037</td>\n",
       "      <td>0.0999</td>\n",
       "      <td>0.1082</td>\n",
       "      <td>0.1029</td>\n",
       "      <td>0.1067</td>\n",
       "      <td>0.1085</td>\n",
       "      <td>0.0951</td>\n",
       "      <td>0.0936</td>\n",
       "    </tr>\n",
       "    <tr>\n",
       "      <th>2003-10-22 12:14:13</th>\n",
       "      <td>0.1050</td>\n",
       "      <td>0.1015</td>\n",
       "      <td>0.1085</td>\n",
       "      <td>0.1040</td>\n",
       "      <td>0.1087</td>\n",
       "      <td>0.1099</td>\n",
       "      <td>0.0962</td>\n",
       "      <td>0.0983</td>\n",
       "    </tr>\n",
       "    <tr>\n",
       "      <th>2003-10-22 12:19:13</th>\n",
       "      <td>0.1049</td>\n",
       "      <td>0.1016</td>\n",
       "      <td>0.1082</td>\n",
       "      <td>0.1034</td>\n",
       "      <td>0.1081</td>\n",
       "      <td>0.1100</td>\n",
       "      <td>0.0968</td>\n",
       "      <td>0.0986</td>\n",
       "    </tr>\n",
       "    <tr>\n",
       "      <th>2003-10-22 12:24:13</th>\n",
       "      <td>0.1048</td>\n",
       "      <td>0.1022</td>\n",
       "      <td>0.1079</td>\n",
       "      <td>0.1026</td>\n",
       "      <td>0.1085</td>\n",
       "      <td>0.1093</td>\n",
       "      <td>0.0964</td>\n",
       "      <td>0.0985</td>\n",
       "    </tr>\n",
       "  </tbody>\n",
       "</table>\n",
       "</div>"
      ],
      "text/plain": [
       "                       Br11    Br12    Br21    Br22    Br31    Br32    Br41  \\\n",
       "2003-10-22 12:06:24  0.1041  0.1003  0.1071  0.1020  0.1061  0.1082  0.0948   \n",
       "2003-10-22 12:09:13  0.1037  0.0999  0.1082  0.1029  0.1067  0.1085  0.0951   \n",
       "2003-10-22 12:14:13  0.1050  0.1015  0.1085  0.1040  0.1087  0.1099  0.0962   \n",
       "2003-10-22 12:19:13  0.1049  0.1016  0.1082  0.1034  0.1081  0.1100  0.0968   \n",
       "2003-10-22 12:24:13  0.1048  0.1022  0.1079  0.1026  0.1085  0.1093  0.0964   \n",
       "\n",
       "                       Br42  \n",
       "2003-10-22 12:06:24  0.0995  \n",
       "2003-10-22 12:09:13  0.0936  \n",
       "2003-10-22 12:14:13  0.0983  \n",
       "2003-10-22 12:19:13  0.0986  \n",
       "2003-10-22 12:24:13  0.0985  "
      ]
     },
     "execution_count": 4,
     "metadata": {},
     "output_type": "execute_result"
    }
   ],
   "source": [
    "# we must be sure that rows are in cronological order\n",
    "result_data.index = pd.to_datetime(result_data.index, format='%Y.%m.%d.%H.%M.%S')\n",
    "result_data = result_data.sort_index()\n",
    "\n",
    "# save data in csv\n",
    "result_data.to_csv(RESULT_FILE_NAME)\n",
    "\n",
    "result_data.head()"
   ]
  },
  {
   "cell_type": "code",
   "execution_count": 5,
   "metadata": {},
   "outputs": [
    {
     "data": {
      "text/plain": [
       "<matplotlib.axes._subplots.AxesSubplot at 0x7fb1ee492510>"
      ]
     },
     "execution_count": 5,
     "metadata": {},
     "output_type": "execute_result"
    },
    {
     "data": {
      "image/png": "[encoded data removed]",
      "text/plain": [
       "<Figure size 864x576 with 1 Axes>"
      ]
     },
     "metadata": {
      "needs_background": "light"
     },
     "output_type": "display_data"
    }
   ],
   "source": [
    "# plot all data\n",
    "result_data.plot(figsize = (12,8))"
   ]
  },
  {
   "cell_type": "code",
   "execution_count": null,
   "metadata": {},
   "outputs": [],
   "source": []
  }
 ],
 "metadata": {
  "kernelspec": {
   "display_name": "Python 3",
   "language": "python",
   "name": "python3"
  },
  "language_info": {
   "codemirror_mode": {
    "name": "ipython",
    "version": 3
   },
   "file_extension": ".py",
   "mimetype": "text/x-python",
   "name": "python",
   "nbconvert_exporter": "python",
   "pygments_lexer": "ipython3",
   "version": "3.7.6"
  }
 },
 "nbformat": 4,
 "nbformat_minor": 4
}
