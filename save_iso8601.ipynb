{
 "cells": [
  {
   "cell_type": "markdown",
   "id": "113fd408",
   "metadata": {},
   "source": [
    "## Project 3: Anomaly Detection using OCI AD Service\n",
    "### Change timestamp format\n",
    "\n",
    "Save the dataset with timestamp in ISO-8601 format\n",
    "\n",
    "* dataset: BearingsNasaTest1.csv"
   ]
  },
  {
   "cell_type": "code",
   "execution_count": 13,
   "id": "2e98002f",
   "metadata": {},
   "outputs": [],
   "source": [
    "import pandas as pd\n",
    "import numpy as np\n",
    "\n",
    "import matplotlib.pyplot as plt\n",
    "import seaborn as sns\n",
    "\n",
    "%matplotlib inline"
   ]
  },
  {
   "cell_type": "code",
   "execution_count": 14,
   "id": "9422d96f",
   "metadata": {},
   "outputs": [],
   "source": [
    "FILE_ORIG = 'BearingsNasaTest1.csv'\n",
    "\n",
    "data_orig = pd.read_csv(FILE_ORIG)"
   ]
  },
  {
   "cell_type": "code",
   "execution_count": 15,
   "id": "d871807f",
   "metadata": {},
   "outputs": [],
   "source": [
    "data_orig.head()\n",
    "\n",
    "# renaming the first column as timestamp\n",
    "data_new = data_orig.rename(columns={\"Unnamed: 0\": \"timestamp\"})"
   ]
  },
  {
   "cell_type": "code",
   "execution_count": 16,
   "id": "fcd697a9",
   "metadata": {},
   "outputs": [
    {
     "data": {
      "text/html": [
       "<div>\n",
       "<style scoped>\n",
       "    .dataframe tbody tr th:only-of-type {\n",
       "        vertical-align: middle;\n",
       "    }\n",
       "\n",
       "    .dataframe tbody tr th {\n",
       "        vertical-align: top;\n",
       "    }\n",
       "\n",
       "    .dataframe thead th {\n",
       "        text-align: right;\n",
       "    }\n",
       "</style>\n",
       "<table border=\"1\" class=\"dataframe\">\n",
       "  <thead>\n",
       "    <tr style=\"text-align: right;\">\n",
       "      <th></th>\n",
       "      <th>timestamp</th>\n",
       "      <th>Br11</th>\n",
       "      <th>Br12</th>\n",
       "      <th>Br21</th>\n",
       "      <th>Br22</th>\n",
       "      <th>Br31</th>\n",
       "      <th>Br32</th>\n",
       "      <th>Br41</th>\n",
       "      <th>Br42</th>\n",
       "    </tr>\n",
       "  </thead>\n",
       "  <tbody>\n",
       "    <tr>\n",
       "      <th>0</th>\n",
       "      <td>2003-10-22 12:06:24</td>\n",
       "      <td>0.1041</td>\n",
       "      <td>0.1003</td>\n",
       "      <td>0.1071</td>\n",
       "      <td>0.1020</td>\n",
       "      <td>0.1061</td>\n",
       "      <td>0.1082</td>\n",
       "      <td>0.0948</td>\n",
       "      <td>0.0995</td>\n",
       "    </tr>\n",
       "    <tr>\n",
       "      <th>1</th>\n",
       "      <td>2003-10-22 12:09:13</td>\n",
       "      <td>0.1037</td>\n",
       "      <td>0.0999</td>\n",
       "      <td>0.1082</td>\n",
       "      <td>0.1029</td>\n",
       "      <td>0.1067</td>\n",
       "      <td>0.1085</td>\n",
       "      <td>0.0951</td>\n",
       "      <td>0.0936</td>\n",
       "    </tr>\n",
       "    <tr>\n",
       "      <th>2</th>\n",
       "      <td>2003-10-22 12:14:13</td>\n",
       "      <td>0.1050</td>\n",
       "      <td>0.1015</td>\n",
       "      <td>0.1085</td>\n",
       "      <td>0.1040</td>\n",
       "      <td>0.1087</td>\n",
       "      <td>0.1099</td>\n",
       "      <td>0.0962</td>\n",
       "      <td>0.0983</td>\n",
       "    </tr>\n",
       "    <tr>\n",
       "      <th>3</th>\n",
       "      <td>2003-10-22 12:19:13</td>\n",
       "      <td>0.1049</td>\n",
       "      <td>0.1016</td>\n",
       "      <td>0.1082</td>\n",
       "      <td>0.1034</td>\n",
       "      <td>0.1081</td>\n",
       "      <td>0.1100</td>\n",
       "      <td>0.0968</td>\n",
       "      <td>0.0986</td>\n",
       "    </tr>\n",
       "    <tr>\n",
       "      <th>4</th>\n",
       "      <td>2003-10-22 12:24:13</td>\n",
       "      <td>0.1048</td>\n",
       "      <td>0.1022</td>\n",
       "      <td>0.1079</td>\n",
       "      <td>0.1026</td>\n",
       "      <td>0.1085</td>\n",
       "      <td>0.1093</td>\n",
       "      <td>0.0964</td>\n",
       "      <td>0.0985</td>\n",
       "    </tr>\n",
       "  </tbody>\n",
       "</table>\n",
       "</div>"
      ],
      "text/plain": [
       "             timestamp    Br11    Br12    Br21    Br22    Br31    Br32  \\\n",
       "0  2003-10-22 12:06:24  0.1041  0.1003  0.1071  0.1020  0.1061  0.1082   \n",
       "1  2003-10-22 12:09:13  0.1037  0.0999  0.1082  0.1029  0.1067  0.1085   \n",
       "2  2003-10-22 12:14:13  0.1050  0.1015  0.1085  0.1040  0.1087  0.1099   \n",
       "3  2003-10-22 12:19:13  0.1049  0.1016  0.1082  0.1034  0.1081  0.1100   \n",
       "4  2003-10-22 12:24:13  0.1048  0.1022  0.1079  0.1026  0.1085  0.1093   \n",
       "\n",
       "     Br41    Br42  \n",
       "0  0.0948  0.0995  \n",
       "1  0.0951  0.0936  \n",
       "2  0.0962  0.0983  \n",
       "3  0.0968  0.0986  \n",
       "4  0.0964  0.0985  "
      ]
     },
     "execution_count": 16,
     "metadata": {},
     "output_type": "execute_result"
    }
   ],
   "source": [
    "data_new.head()"
   ]
  },
  {
   "cell_type": "code",
   "execution_count": 17,
   "id": "018d316a",
   "metadata": {},
   "outputs": [],
   "source": [
    "# change the datatype to datetime\n",
    "data_new.timestamp = data_new.timestamp.astype('datetime64')"
   ]
  },
  {
   "cell_type": "code",
   "execution_count": 21,
   "id": "3e810d86",
   "metadata": {},
   "outputs": [],
   "source": [
    "# save with timestamp in ISO-8601 format\n",
    "data_new.to_csv('bearings_ad.csv', index=None, date_format='%Y-%m-%dT%H:%M:%SZ')"
   ]
  },
  {
   "cell_type": "code",
   "execution_count": null,
   "id": "ba9c1b68",
   "metadata": {},
   "outputs": [],
   "source": []
  }
 ],
 "metadata": {
  "kernelspec": {
   "display_name": "Python [conda env:generalml_p37_gpu_v1]",
   "language": "python",
   "name": "conda-env-generalml_p37_gpu_v1-py"
  },
  "language_info": {
   "codemirror_mode": {
    "name": "ipython",
    "version": 3
   },
   "file_extension": ".py",
   "mimetype": "text/x-python",
   "name": "python",
   "nbconvert_exporter": "python",
   "pygments_lexer": "ipython3",
   "version": "3.7.12"
  }
 },
 "nbformat": 4,
 "nbformat_minor": 5
}
